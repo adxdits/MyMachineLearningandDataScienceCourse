{
 "cells": [
  {
   "cell_type": "code",
   "execution_count": 3,
   "id": "b4f6517f-9fa2-4d4a-9ebd-a5bb3abb42ac",
   "metadata": {},
   "outputs": [
    {
     "name": "stdout",
     "output_type": "stream",
     "text": [
      "0    10\n",
      "1    20\n",
      "2    30\n",
      "3    40\n",
      "4    50\n",
      "dtype: int64\n"
     ]
    }
   ],
   "source": [
    "import pandas as pd\n",
    "\n",
    "# Creating a Pandas Series from a list\n",
    "data = [10, 20, 30, 40, 50]\n",
    "s = pd.Series(data)\n",
    "print(s)\n"
   ]
  },
  {
   "cell_type": "code",
   "execution_count": 2,
   "id": "f06c7495-ad44-4c84-85aa-18931f23bd5d",
   "metadata": {
    "scrolled": true
   },
   "outputs": [
    {
     "name": "stdout",
     "output_type": "stream",
     "text": [
      "a    10\n",
      "b    20\n",
      "c    30\n",
      "d    40\n",
      "e    50\n",
      "dtype: int64\n"
     ]
    }
   ],
   "source": [
    "s = pd.Series(data, index=['a', 'b', 'c', 'd', 'e'])\n",
    "print(s)"
   ]
  },
  {
   "cell_type": "code",
   "execution_count": 3,
   "id": "dbc54a80-e390-4fa3-b5ae-30e1765c517b",
   "metadata": {},
   "outputs": [
    {
     "name": "stdout",
     "output_type": "stream",
     "text": [
      "a    10\n",
      "b    20\n",
      "c    30\n",
      "d    40\n",
      "e    50\n",
      "dtype: int64\n"
     ]
    }
   ],
   "source": [
    "# Creating a Pandas Series from a dictionary\n",
    "data = {'a': 10, 'b': 20, 'c': 30, 'd': 40, 'e': 50}\n",
    "s = pd.Series(data)\n",
    "print(s)"
   ]
  },
  {
   "cell_type": "code",
   "execution_count": 4,
   "id": "b5a73c33-9551-4d6d-abaf-4eb1d0c0cc88",
   "metadata": {},
   "outputs": [
    {
     "name": "stdout",
     "output_type": "stream",
     "text": [
      "10\n",
      "30\n"
     ]
    }
   ],
   "source": [
    "# Accessing data in a Series using index labels\n",
    "print(s['a'])\n",
    "print(s['c'])"
   ]
  },
  {
   "cell_type": "code",
   "execution_count": 5,
   "id": "0c85d2ec-d926-49ea-9f5f-c5d31d44e1d1",
   "metadata": {},
   "outputs": [
    {
     "name": "stdout",
     "output_type": "stream",
     "text": [
      "10\n",
      "30\n"
     ]
    },
    {
     "name": "stderr",
     "output_type": "stream",
     "text": [
      "C:\\Users\\adama\\AppData\\Local\\Temp\\ipykernel_15264\\2047556076.py:2: FutureWarning: Series.__getitem__ treating keys as positions is deprecated. In a future version, integer keys will always be treated as labels (consistent with DataFrame behavior). To access a value by position, use `ser.iloc[pos]`\n",
      "  print(s[0])  # First element\n",
      "C:\\Users\\adama\\AppData\\Local\\Temp\\ipykernel_15264\\2047556076.py:3: FutureWarning: Series.__getitem__ treating keys as positions is deprecated. In a future version, integer keys will always be treated as labels (consistent with DataFrame behavior). To access a value by position, use `ser.iloc[pos]`\n",
      "  print(s[2])  # Third element\n"
     ]
    }
   ],
   "source": [
    "# Accessing data in a Series by position\n",
    "print(s[0])  # First element\n",
    "print(s[2])  # Third element"
   ]
  },
  {
   "cell_type": "code",
   "execution_count": 6,
   "id": "607ecdc2-2349-42e7-922b-19f82e834c90",
   "metadata": {},
   "outputs": [
    {
     "name": "stdout",
     "output_type": "stream",
     "text": [
      "a    10\n",
      "b    20\n",
      "c    30\n",
      "dtype: int64\n"
     ]
    }
   ],
   "source": [
    "# Slicing a Series by label\n",
    "print(s['a':'c'])  # Includes elements from 'a' to 'c'"
   ]
  },
  {
   "cell_type": "code",
   "execution_count": 7,
   "id": "1c7cc580-8e9c-4f30-b22e-60c919893d9b",
   "metadata": {},
   "outputs": [
    {
     "name": "stdout",
     "output_type": "stream",
     "text": [
      "      Name  Age         City\n",
      "0    Alice   24     New York\n",
      "1      Bob   27  Los Angeles\n",
      "2  Charlie   22      Chicago\n"
     ]
    }
   ],
   "source": [
    "# Creating a DataFrame from a dictionary of lists\n",
    "data = {\n",
    "    'Name': ['Alice', 'Bob', 'Charlie'],\n",
    "    'Age': [24, 27, 22],\n",
    "    'City': ['New York', 'Los Angeles', 'Chicago']\n",
    "}\n",
    "df = pd.DataFrame(data)\n",
    "print(df)"
   ]
  },
  {
   "cell_type": "code",
   "execution_count": 8,
   "id": "5c7d3d46-3ece-42f2-90fb-815b721251ed",
   "metadata": {},
   "outputs": [
    {
     "name": "stdout",
     "output_type": "stream",
     "text": [
      "      Name  Age         City\n",
      "0    Alice   24     New York\n",
      "1      Bob   27  Los Angeles\n",
      "2  Charlie   22      Chicago\n"
     ]
    }
   ],
   "source": [
    "# Creating a DataFrame from a list of dictionaries\n",
    "data = [\n",
    "    {'Name': 'Alice', 'Age': 24, 'City': 'New York'},\n",
    "    {'Name': 'Bob', 'Age': 27, 'City': 'Los Angeles'},\n",
    "    {'Name': 'Charlie', 'Age': 22, 'City': 'Chicago'}\n",
    "]\n",
    "df = pd.DataFrame(data)\n",
    "print(df)"
   ]
  },
  {
   "cell_type": "code",
   "execution_count": 13,
   "id": "a8645770-d942-455a-b033-6335aadd7e2a",
   "metadata": {},
   "outputs": [
    {
     "name": "stdout",
     "output_type": "stream",
     "text": [
      "Los Angeles\n"
     ]
    }
   ],
   "source": [
    "# Accessing a single column\n",
    "#print(df['Name'])\n",
    "\n",
    "# Accessing multiple columns\n",
    "#print(df[['Name', 'City']])\n",
    "\n",
    "# Accessing a specific row by index\n",
    "#print(df.iloc[1])\n",
    "\n",
    "# Accessing a specific element\n",
    "print(df.at[1, 'City'])  # Row 1, Column 'City'"
   ]
  },
  {
   "cell_type": "code",
   "execution_count": 9,
   "id": "0be8828b-3746-49fb-a081-2807e585ab11",
   "metadata": {},
   "outputs": [
    {
     "name": "stdout",
     "output_type": "stream",
     "text": [
      "DataFrame Information:\n",
      "\n",
      "<class 'pandas.core.frame.DataFrame'>\n",
      "RangeIndex: 5 entries, 0 to 4\n",
      "Data columns (total 4 columns):\n",
      " #   Column  Non-Null Count  Dtype \n",
      "---  ------  --------------  ----- \n",
      " 0   Name    5 non-null      object\n",
      " 1   Age     5 non-null      int64 \n",
      " 2   City    5 non-null      object\n",
      " 3   Sales   5 non-null      int64 \n",
      "dtypes: int64(2), object(2)\n",
      "memory usage: 292.0+ bytes\n",
      "\n",
      "Summary Statistics:\n",
      "\n",
      "             Age       Sales\n",
      "count   5.000000    5.000000\n",
      "mean   26.800000  230.000000\n",
      "std     3.962323  120.415946\n",
      "min    22.000000  100.000000\n",
      "25%    24.000000  150.000000\n",
      "50%    27.000000  200.000000\n",
      "75%    29.000000  300.000000\n",
      "max    32.000000  400.000000\n",
      "\n",
      "Missing Values in Each Column:\n",
      "\n",
      "Name     0\n",
      "Age      0\n",
      "City     0\n",
      "Sales    0\n",
      "dtype: int64\n"
     ]
    }
   ],
   "source": [
    "import pandas as pd\n",
    "\n",
    "# Sample DataFrame for demonstration\n",
    "data = {\n",
    "    'Name': ['Alice', 'Bob', 'Charlie', 'David', 'Edward'],\n",
    "    'Age': [24, 27, 22, 32, 29],\n",
    "    'City': ['New York', 'Los Angeles', 'Chicago', 'New York', 'Los Angeles'],\n",
    "    'Sales': [100, 200, 150, 300, 400]\n",
    "}\n",
    "df = pd.DataFrame(data)\n",
    "\n",
    "# Displaying basic information about the DataFrame\n",
    "print(\"DataFrame Information:\\n\")\n",
    "df.info()\n",
    "\n",
    "# Summary statistics\n",
    "print(\"\\nSummary Statistics:\\n\")\n",
    "print(df.describe())\n",
    "\n",
    "# Checking for missing values\n",
    "print(\"\\nMissing Values in Each Column:\\n\")\n",
    "print(df.isnull().sum())\n",
    "\n"
   ]
  },
  {
   "cell_type": "code",
   "execution_count": 10,
   "id": "cff695b5-7b80-471b-92b1-822589770439",
   "metadata": {},
   "outputs": [
    {
     "name": "stdout",
     "output_type": "stream",
     "text": [
      "Filtered DataFrame (Age > 25):\n",
      "      Name  Age         City  Sales\n",
      "1     Bob   27  Los Angeles    200\n",
      "3   David   32     New York    300\n",
      "4  Edward   29  Los Angeles    400\n",
      "\n",
      "Grouped DataFrame by City (mean values):\n",
      "               Age  Sales\n",
      "City                    \n",
      "Chicago      22.0  150.0\n",
      "Los Angeles  28.0  300.0\n",
      "New York     28.0  200.0\n"
     ]
    }
   ],
   "source": [
    "# Filtering data\n",
    "filtered_df = df[df['Age'] > 25]\n",
    "print(\"Filtered DataFrame (Age > 25):\\n\", filtered_df)\n",
    "\n",
    "# Grouping and aggregating data\n",
    "grouped_df = df.groupby('City').mean(numeric_only=True)\n",
    "print(\"\\nGrouped DataFrame by City (mean values):\\n\", grouped_df)\n"
   ]
  },
  {
   "cell_type": "code",
   "execution_count": 11,
   "id": "bdf6a59c-6e62-421b-9539-fe71130b1603",
   "metadata": {},
   "outputs": [
    {
     "ename": "ModuleNotFoundError",
     "evalue": "No module named 'matplotlib'",
     "output_type": "error",
     "traceback": [
      "\u001b[1;31m---------------------------------------------------------------------------\u001b[0m",
      "\u001b[1;31mModuleNotFoundError\u001b[0m                       Traceback (most recent call last)",
      "Cell \u001b[1;32mIn[11], line 1\u001b[0m\n\u001b[1;32m----> 1\u001b[0m \u001b[38;5;28;01mimport\u001b[39;00m \u001b[38;5;21;01mmatplotlib\u001b[39;00m\u001b[38;5;21;01m.\u001b[39;00m\u001b[38;5;21;01mpyplot\u001b[39;00m \u001b[38;5;28;01mas\u001b[39;00m \u001b[38;5;21;01mplt\u001b[39;00m\n\u001b[0;32m      3\u001b[0m \u001b[38;5;66;03m# Creating a bar plot for the distribution of cities\u001b[39;00m\n\u001b[0;32m      4\u001b[0m df[\u001b[38;5;124m'\u001b[39m\u001b[38;5;124mCity\u001b[39m\u001b[38;5;124m'\u001b[39m]\u001b[38;5;241m.\u001b[39mvalue_counts()\u001b[38;5;241m.\u001b[39mplot(kind\u001b[38;5;241m=\u001b[39m\u001b[38;5;124m'\u001b[39m\u001b[38;5;124mbar\u001b[39m\u001b[38;5;124m'\u001b[39m, title\u001b[38;5;241m=\u001b[39m\u001b[38;5;124m'\u001b[39m\u001b[38;5;124mCity Distribution\u001b[39m\u001b[38;5;124m'\u001b[39m)\n",
      "\u001b[1;31mModuleNotFoundError\u001b[0m: No module named 'matplotlib'"
     ]
    }
   ],
   "source": [
    "import matplotlib.pyplot as plt\n",
    "\n",
    "# Creating a bar plot for the distribution of cities\n",
    "df['City'].value_counts().plot(kind='bar', title='City Distribution')\n",
    "plt.xlabel('City')\n",
    "plt.ylabel('Count')\n",
    "plt.show()\n",
    "\n",
    "# Creating a scatter plot for Age vs Sales\n",
    "df.plot(kind='scatter', x='Age', y='Sales', title='Age vs Sales')\n",
    "plt.xlabel('Age')\n",
    "plt.ylabel('Sales')\n",
    "plt.show()\n"
   ]
  },
  {
   "cell_type": "code",
   "execution_count": null,
   "id": "a4c1f08e-d37c-4676-8116-54dab290db9a",
   "metadata": {},
   "outputs": [],
   "source": []
  }
 ],
 "metadata": {
  "kernelspec": {
   "display_name": "Python 3 (ipykernel)",
   "language": "python",
   "name": "python3"
  },
  "language_info": {
   "codemirror_mode": {
    "name": "ipython",
    "version": 3
   },
   "file_extension": ".py",
   "mimetype": "text/x-python",
   "name": "python",
   "nbconvert_exporter": "python",
   "pygments_lexer": "ipython3",
   "version": "3.12.5"
  }
 },
 "nbformat": 4,
 "nbformat_minor": 5
}
